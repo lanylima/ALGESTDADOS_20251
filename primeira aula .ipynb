{
  "nbformat": 4,
  "nbformat_minor": 0,
  "metadata": {
    "colab": {
      "provenance": [],
      "authorship_tag": "ABX9TyN40pCHLYhYLTIJ8k9OOylN",
      "include_colab_link": true
    },
    "kernelspec": {
      "name": "python3",
      "display_name": "Python 3"
    },
    "language_info": {
      "name": "python"
    }
  },
  "cells": [
    {
      "cell_type": "markdown",
      "metadata": {
        "id": "view-in-github",
        "colab_type": "text"
      },
      "source": [
        "<a href=\"https://colab.research.google.com/github/lanylima/ALGESTDADOS_20251/blob/main/primeira%20aula%20.ipynb\" target=\"_parent\"><img src=\"https://colab.research.google.com/assets/colab-badge.svg\" alt=\"Open In Colab\"/></a>"
      ]
    },
    {
      "cell_type": "code",
      "execution_count": null,
      "metadata": {
        "colab": {
          "base_uri": "https://localhost:8080/"
        },
        "id": "K_aIqPRmaYzi",
        "outputId": "3321dd8a-9936-49fe-fb5e-0ab3f1a44b75"
      },
      "outputs": [
        {
          "output_type": "stream",
          "name": "stdout",
          "text": [
            "3570\n"
          ]
        }
      ],
      "source": [
        "num1=1930\n",
        "num2= 1640\n",
        "resultado= num1+num2\n",
        "print(resultado)"
      ]
    },
    {
      "cell_type": "code",
      "source": [
        "num1=int(input('Digite o primeiro número:'))\n",
        "num2=int(input('Diugite o segundo número:'))\n",
        "resultado=num1+num2\n",
        "print(resultado)"
      ],
      "metadata": {
        "id": "QiDKhbQ8cBxU"
      },
      "execution_count": null,
      "outputs": []
    },
    {
      "cell_type": "code",
      "source": [],
      "metadata": {
        "id": "zFvIEK9r7KI3"
      },
      "execution_count": null,
      "outputs": []
    },
    {
      "cell_type": "code",
      "source": [
        "#crie um algoritmo em python que calcule o valor do imc de uma pessoa\n",
        "num1=float(input('Digite o peso'))\n",
        "num2=float(input('Digite a altura'))\n",
        "resultado=num1/(num2*num2)\n",
        "print(resultado)\n"
      ],
      "metadata": {
        "colab": {
          "base_uri": "https://localhost:8080/"
        },
        "id": "4IDx9C3Q7KJt",
        "outputId": "3f75eac4-e80c-473b-dc05-53e6a1e3a5b9"
      },
      "execution_count": 4,
      "outputs": [
        {
          "output_type": "stream",
          "name": "stdout",
          "text": [
            "Digite o peso65.1\n",
            "Digite a altura1.75\n",
            "21.257142857142856\n"
          ]
        }
      ]
    }
  ]
}