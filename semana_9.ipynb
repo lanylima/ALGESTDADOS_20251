{
  "nbformat": 4,
  "nbformat_minor": 0,
  "metadata": {
    "colab": {
      "provenance": [],
      "authorship_tag": "ABX9TyO5fNipbn76rj5KeY3HX9Ki",
      "include_colab_link": true
    },
    "kernelspec": {
      "name": "python3",
      "display_name": "Python 3"
    },
    "language_info": {
      "name": "python"
    }
  },
  "cells": [
    {
      "cell_type": "markdown",
      "metadata": {
        "id": "view-in-github",
        "colab_type": "text"
      },
      "source": [
        "<a href=\"https://colab.research.google.com/github/lanylima/ALGESTDADOS_20251/blob/main/semana_9.ipynb\" target=\"_parent\"><img src=\"https://colab.research.google.com/assets/colab-badge.svg\" alt=\"Open In Colab\"/></a>"
      ]
    },
    {
      "cell_type": "code",
      "source": [
        "#QUESTÃO 7 (2 PONTOS) – Escreva um código completo em Python que utilize a biblioteca DATETIME para obter e exibir o ano atual na tela.\n",
        "from datetime import datetime\n",
        "ano = datetime.now().year\n",
        "print(ano)"
      ],
      "metadata": {
        "colab": {
          "base_uri": "https://localhost:8080/"
        },
        "id": "KIMCXCnM2yFI",
        "outputId": "47473ac7-78a8-4151-9855-a3798cb4043b"
      },
      "execution_count": null,
      "outputs": [
        {
          "output_type": "stream",
          "name": "stdout",
          "text": [
            "2025\n"
          ]
        }
      ]
    },
    {
      "cell_type": "code",
      "execution_count": null,
      "metadata": {
        "id": "O_EKVKTLqx5Q",
        "colab": {
          "base_uri": "https://localhost:8080/"
        },
        "outputId": "0cb1a97a-3c52-4a41-ff33-f63b3a528523"
      },
      "outputs": [
        {
          "output_type": "stream",
          "name": "stdout",
          "text": [
            "1\n",
            "2\n",
            "4\n",
            "5\n",
            "7\n",
            "8\n",
            "10\n"
          ]
        }
      ],
      "source": [
        "#QUESTÃO 8 (2 PONTOS) – Escreva um programa em Python que utilize um laço for para imprimir os números de 1 a 10. O programa deve pular os números múltiplos de 3 utilizando a estrutura condicional apropriada.\n",
        "for numero in range(1, 11):\n",
        "    if numero % 3 != 0:\n",
        "        print(numero)\n"
      ]
    },
    {
      "cell_type": "code",
      "source": [
        " #QUESTÃO 9 (3 PONTOS) – A função INPUT() em Python é usada para receber entrada do usuário. Ela exibe uma mensagem (prompt), aguarda o que for digitado pelo teclado e retorna o valor como uma STRING. Crie um algoritmo em Python que solicite ao usuário uma frase qualquer.O programa deve contar a quantidade de caracteres digitados, mas só deve exibir esse número se a frase tiver mais de 10 caracteres.\n",
        "frase = input('digite uma frase')\n",
        "for i in range(len(frase)):\n",
        "  if i > 10:\n",
        "    print(len(frase))\n",
        "    break"
      ],
      "metadata": {
        "colab": {
          "base_uri": "https://localhost:8080/"
        },
        "id": "10MrMhQlyfXi",
        "outputId": "40912f79-c098-487d-f53f-afcb56d64462"
      },
      "execution_count": null,
      "outputs": [
        {
          "output_type": "stream",
          "name": "stdout",
          "text": [
            "digite uma frase eu gosto de uva\n",
            "16\n"
          ]
        }
      ]
    },
    {
      "cell_type": "code",
      "source": [
        "#QUESTÃO 10 (3 PONTOS) - Em Python, uma variável é um nome associado a um espaço na memória usado para armazenar um único valor por vez. Ela permite guardar informações que podem ser reutilizadas ao longo do programa. Considere duas variáveis chamadas POTE_A e POTE_B. Escreva um algoritmo em Python que solicite ao usuário a inserção de um valor para cada uma dessas variáveis. No entanto, após a inserção, os valores devem ser trocados entre si, ou seja, o valor digitado inicialmente para POTE_A deve ser armazenado em POTE_B, e o valor de POTE_B deve ser armazenado em POTE_A. Importante: A troca deve ser feita de forma independente do momento da inserção, ou seja, não é permitido inverter os valores diretamente no momento do input. A lógica de troca deve ocorrer apósa leitura dos dados.\n",
        "poteA = input('digite o valor do poteA')\n",
        "poteB = input('digite o valor do poteB')\n",
        "potea = poteB\n",
        "poteb = poteA\n",
        "print(f'poteA é {potea} valor e poteB {poteb} valor')"
      ],
      "metadata": {
        "colab": {
          "base_uri": "https://localhost:8080/"
        },
        "id": "v8LJIQgJykop",
        "outputId": "af16753c-7ad9-4b30-9a4e-33e98d40478b"
      },
      "execution_count": null,
      "outputs": [
        {
          "output_type": "stream",
          "name": "stdout",
          "text": [
            "digite o valor do poteA12\n",
            "digite o valor do poteB53\n",
            "poteA é 53 valor e poteB 12 valor\n"
          ]
        }
      ]
    }
  ]
}