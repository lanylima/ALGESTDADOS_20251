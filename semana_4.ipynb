{
  "nbformat": 4,
  "nbformat_minor": 0,
  "metadata": {
    "colab": {
      "provenance": [],
      "authorship_tag": "ABX9TyP7XaksJtqD82QmHlR1kTVH",
      "include_colab_link": true
    },
    "kernelspec": {
      "name": "python3",
      "display_name": "Python 3"
    },
    "language_info": {
      "name": "python"
    }
  },
  "cells": [
    {
      "cell_type": "markdown",
      "metadata": {
        "id": "view-in-github",
        "colab_type": "text"
      },
      "source": [
        "<a href=\"https://colab.research.google.com/github/lanylima/ALGESTDADOS_20251/blob/main/semana_4.ipynb\" target=\"_parent\"><img src=\"https://colab.research.google.com/assets/colab-badge.svg\" alt=\"Open In Colab\"/></a>"
      ]
    },
    {
      "cell_type": "code",
      "execution_count": null,
      "metadata": {
        "colab": {
          "base_uri": "https://localhost:8080/"
        },
        "id": "hfEPainDXg4m",
        "outputId": "2a5b1c7f-2ae7-4013-8b0d-c29281feb4ab"
      },
      "outputs": [
        {
          "output_type": "stream",
          "name": "stdout",
          "text": [
            "digite um número5\n",
            "5 é menor que 10\n"
          ]
        }
      ],
      "source": [
        "1#Peça um número e informe se ele é maior que 10. Crie um algoritmo em Python para fazer essa verificação.\n",
        "numero = int(input('digite um número'))\n",
        "if numero > 10:\n",
        "   print(f'{numero} é maior que 10')\n",
        "else:\n",
        "   print(f'{numero} é menor que 10')"
      ]
    },
    {
      "cell_type": "code",
      "source": [
        "from os import PRIO_PGRP\n",
        "2#Peça um número inteiro e informe se ele é par. Crie um algoritmo em Python que verifique se o número é divisível por 2.\n",
        "numero = int(input('digite um número'))\n",
        "if numero%2 == 0:\n",
        "   print(f'{numero} é numero par')\n",
        "else:\n",
        "  print(f'{numero} é impar')\n"
      ],
      "metadata": {
        "colab": {
          "base_uri": "https://localhost:8080/"
        },
        "id": "hYLAU2tWYC4A",
        "outputId": "51012e28-46f9-48e6-98ef-54659d4c1e3e"
      },
      "execution_count": null,
      "outputs": [
        {
          "output_type": "stream",
          "name": "stdout",
          "text": [
            "digite um número4\n",
            "4 é numero par\n"
          ]
        }
      ]
    },
    {
      "cell_type": "code",
      "source": [
        "3#Peça um nome e informe se ele contém a letra \"a\". Crie um algoritmo em Python que faça essa verificação.\n",
        "nome = input('Digite um nome:')\n",
        "if 'a'in nome:\n",
        "  print('Contém a letra A')\n",
        "else:\n",
        "  print('Não tem a letra A')"
      ],
      "metadata": {
        "colab": {
          "base_uri": "https://localhost:8080/"
        },
        "id": "EejH98LuYGfQ",
        "outputId": "afae1d5d-a6c8-4adc-82b2-9563a45cd91f"
      },
      "execution_count": null,
      "outputs": [
        {
          "output_type": "stream",
          "name": "stdout",
          "text": [
            "Digite um nome:duda\n",
            "Contém a letra A\n"
          ]
        }
      ]
    },
    {
      "cell_type": "code",
      "source": [
        "4#Peça um número e informe se ele é múltiplo de 5. Crie um algoritmo em Python que verifique se o número é divisível por 5.\n",
        "num = int(input('qual o numero?'))\n",
        "if num % 5 == 0:\n",
        "  print(f'{num} é multiplo de 5')\n",
        "else:\n",
        "  print(f'{num} não é multiplo de 5')\n"
      ],
      "metadata": {
        "colab": {
          "base_uri": "https://localhost:8080/"
        },
        "id": "je2Y-trzYNiZ",
        "outputId": "5e9a7c68-73b9-46fd-c91f-282fc1fb3c2b"
      },
      "execution_count": null,
      "outputs": [
        {
          "output_type": "stream",
          "name": "stdout",
          "text": [
            "qual o numero?20\n",
            "20 é multiplo de 5\n"
          ]
        }
      ]
    },
    {
      "cell_type": "code",
      "source": [
        "5#Peça a temperatura atual e informe se está quente (acima de 30°C) ou frio (30°C ou menos). Crie um algoritmo em Python para essa verificação.\n",
        "grau = int(input('qual o temperatura?'))\n",
        "if grau > 30:\n",
        "  print(f'{grau} está quente')\n",
        "else:\n",
        "  print(f'{grau} está frio')"
      ],
      "metadata": {
        "colab": {
          "base_uri": "https://localhost:8080/"
        },
        "id": "0ALX8b4TYPpI",
        "outputId": "57cf1bfe-7988-4833-c45d-07bfde4c1057"
      },
      "execution_count": null,
      "outputs": [
        {
          "output_type": "stream",
          "name": "stdout",
          "text": [
            "qual o temperatura?20\n",
            "20 está frio\n"
          ]
        }
      ]
    },
    {
      "cell_type": "code",
      "source": [
        "6#Peça ao usuário para digitar \"S\" para continuar ou \"N\" para sair e informe a ação correspondente. Crie um algoritmo em Python que faça essa validação e exiba a mensagem correta.\n",
        "con = input('digite \"S\" para continuar ou \"N\" para sair ')\n",
        "if 'S' in con:\n",
        "  print(f'{con} continuar')\n",
        "else:\n",
        "  print(f'{con} sair')"
      ],
      "metadata": {
        "colab": {
          "base_uri": "https://localhost:8080/"
        },
        "id": "CewJvmwrYVjf",
        "outputId": "e4e127b0-b946-4e6c-e862-5580fe631c9c"
      },
      "execution_count": null,
      "outputs": [
        {
          "output_type": "stream",
          "name": "stdout",
          "text": [
            "digite \"S\" para continuar ou \"N\" para sair n\n",
            "n sair\n"
          ]
        }
      ]
    },
    {
      "cell_type": "code",
      "source": [
        "7#Peça um número e informe se ele é negativo, zero ou positivo. Crie um algoritmo em Python para classificar o número.\n",
        "x = int(input('qual o numero?'))\n",
        "if x > 0:\n",
        "  print(f'{x} é um numero positivo')\n",
        "elif x ==0:\n",
        "    print(f'{x} é igual a zero')\n",
        "else:\n",
        "      print(f'{x} é um numero negativo')\n"
      ],
      "metadata": {
        "colab": {
          "base_uri": "https://localhost:8080/"
        },
        "id": "dxwRrMy4Yazp",
        "outputId": "58411e98-3ece-4e90-ab16-e5369c45216c"
      },
      "execution_count": null,
      "outputs": [
        {
          "output_type": "stream",
          "name": "stdout",
          "text": [
            "qual o numero?5\n",
            "5 é um numero positivo\n"
          ]
        }
      ]
    },
    {
      "cell_type": "code",
      "source": [
        "8#Peça um número de 1 a 7 e informe o dia da semana correspondente. Crie um algoritmo em Python que associe o número ao dia correto.\n",
        "num = int(input('qual o numero 1 á 7:'))\n",
        "dias = [\" \",\"Segunda-feira\", \"terça-feira\", \"Quarta-feira\", \"Quinta-feira\", \"Sexta-feira\"]\n",
        "print(\"Hoje é:\",dias[num])\n"
      ],
      "metadata": {
        "colab": {
          "base_uri": "https://localhost:8080/"
        },
        "id": "CC9QTWW6Ygs4",
        "outputId": "1e8c3c3c-4556-4208-ee3a-d5b563fb8f36"
      },
      "execution_count": null,
      "outputs": [
        {
          "output_type": "stream",
          "name": "stdout",
          "text": [
            "qual o numero 1 á 7:5\n",
            "Hoje é: Sexta-feira\n"
          ]
        }
      ]
    },
    {
      "cell_type": "code",
      "source": [
        "9#Peça um ano e informe se ele é bissexto. Crie um algoritmo em Python que verifique se o ano é divisível por 4 e não por 100, exceto se também for divisível por 400.\n",
        "x =int(inpurt('Qual o ano?'))\n",
        "if ano % 4 == 0:\n",
        "  print(f'{ano} é ')"
      ],
      "metadata": {
        "id": "_0LVoK4KYnHw"
      },
      "execution_count": null,
      "outputs": []
    },
    {
      "cell_type": "code",
      "source": [
        "10#Peça a quantidade de horas trabalhadas e o valor por hora. Se trabalhou até 40 horas, calcule o salário normalmente (horas × valor por hora). Se trabalhou mais de 40 horas, as horas extras devem ter um adicional de 50% (horas extras × valor por hora × 1.5). Crie um algoritmo em Python que realize esse cálculo corretamente."
      ],
      "metadata": {
        "id": "RW980l-hYsQq"
      },
      "execution_count": null,
      "outputs": []
    }
  ]
}