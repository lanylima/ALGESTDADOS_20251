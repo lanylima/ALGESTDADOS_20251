{
  "nbformat": 4,
  "nbformat_minor": 0,
  "metadata": {
    "colab": {
      "provenance": [],
      "authorship_tag": "ABX9TyOnPnjFMry1i8T+hUyMAcGa",
      "include_colab_link": true
    },
    "kernelspec": {
      "name": "python3",
      "display_name": "Python 3"
    },
    "language_info": {
      "name": "python"
    }
  },
  "cells": [
    {
      "cell_type": "markdown",
      "metadata": {
        "id": "view-in-github",
        "colab_type": "text"
      },
      "source": [
        "<a href=\"https://colab.research.google.com/github/lanylima/ALGESTDADOS_20251/blob/main/Untitled2.ipynb\" target=\"_parent\"><img src=\"https://colab.research.google.com/assets/colab-badge.svg\" alt=\"Open In Colab\"/></a>"
      ]
    },
    {
      "cell_type": "code",
      "execution_count": 4,
      "metadata": {
        "colab": {
          "base_uri": "https://localhost:8080/"
        },
        "id": "p-QMfJo2RM9o",
        "outputId": "b6957c1c-59e0-4b9d-c41e-86e26742d1f4"
      },
      "outputs": [
        {
          "output_type": "stream",
          "name": "stdout",
          "text": [
            " Digite o seu lindo nome: Suelany\n",
            "Digite o nome da sua linda cidade Pinheiros\n",
            "Quando você nasceu? (DD/MM/YYYY)29/08/2005\n",
            "seu nome é Suelany,sua cidade é  Pinheiros e sua idade é 19 anos\n"
          ]
        }
      ],
      "source": [
        "# criar um programa que retorne o nome, a cidade e a idade de um usuário através da sua data de nascimento.\n",
        "\n",
        "#importante a biblioteca datetime\n",
        "from datetime import datetime\n",
        "\n",
        "# atribui um valor textual a variável nome\n",
        "nome= input(' Digite o seu lindo nome:')\n",
        "\n",
        "# Atribui um valor textual a variável nome\n",
        "cidade= input('Digite o nome da sua linda cidade')\n",
        "\n",
        "#data de nascimento em formato de texto\n",
        "data_nasc= input('Quando você nasceu? (DD/MM/YYYY)')\n",
        "\n",
        "# convertendo a data_nasc em forma de data\n",
        "data_conv = datetime.strptime(data_nasc, '%d/%m/%Y')\n",
        "\n",
        "#pagando do sistema a data de hoje\n",
        "hoje = datetime.now()\n",
        "\n",
        "#idade = data de hoje - data de nascimento, em dias , dividindopor 365 dias no ano\n",
        "idade = (hoje - data_conv).days //365\n",
        "\n",
        "print(f'seu nome é{nome},sua cidade é {cidade} e sua idade é {idade} anos')\n"
      ]
    }
  ]
}